{
 "cells": [
  {
   "cell_type": "markdown",
   "metadata": {},
   "source": [
    "# Modelagem de Produtividade Agrícola com Random Forest\n",
    "\n",
    "Este notebook utiliza o arquivo `integrado_anual.csv` para treinar e avaliar um modelo RandomForestRegressor, prevendo a produtividade (ton/ha) a partir de variáveis climáticas e NDVI.\n"
   ]
  },
  {
   "cell_type": "markdown",
   "metadata": {},
   "source": [
    "## 1. Importação dos dados\n",
    "As variáveis disponíveis são:\n",
    "- Ano (referência)\n",
    "- Área Plantada (ha)\n",
    "- Área Colhida (ha)\n",
    "- Produção (ton)\n",
    "- Produtividade (ton/ha) [alvo]\n",
    "- Savitzky-Golay (NDVI médio anual)\n",
    "- Precipitacao_total_mm\n",
    "- Temp_media_C\n",
    "- Umidade_media\n"
   ]
  },
  {
   "cell_type": "code",
   "metadata": {},
   "execution_count": null,
   "outputs": [],
   "source": [
    "import pandas as pd\n",
    "df = pd.read_csv('../dados_processados/integrado_anual.csv')\n",
    "df"
   ]
  },
  {
   "cell_type": "markdown",
   "metadata": {},
   "source": [
    "## 2. Treinamento e Validação (Leave-One-Out)\n",
    "O modelo Random Forest é robusto para pequenas amostras e captura relações não-lineares.\n",
    "A validação Leave-One-Out garante avaliação realista mesmo com poucos anos.\n"
   ]
  },
  {
   "cell_type": "code",
   "metadata": {},
   "execution_count": null,
   "outputs": [],
   "source": [
    "from sklearn.ensemble import RandomForestRegressor\n",
    "from sklearn.metrics import r2_score, mean_absolute_error, mean_squared_error\n",
    "from sklearn.model_selection import LeaveOneOut\n",
    "import numpy as np\n",
    "\n",
    "X = df[['Área Plantada (ha)', 'Área Colhida (ha)', 'Savitzky-Golay',\n",
    "        'Precipitacao_total_mm', 'Temp_media_C', 'Umidade_media']]\n",
    "y = df['Produtividade (ton/ha)']\n",
    "\n",
    "loo = LeaveOneOut()\n",
    "y_true, y_pred = [], []\n",
    "\n",
    "for train_idx, test_idx in loo.split(X):\n",
    "    X_train, X_test = X.iloc[train_idx], X.iloc[test_idx]\n",
    "    y_train, y_test = y.iloc[train_idx], y.iloc[test_idx]\n",
    "    model = RandomForestRegressor(n_estimators=100, random_state=42)\n",
    "    model.fit(X_train, y_train)\n",
    "    y_pred.append(model.predict(X_test)[0])\n",
    "    y_true.append(y_test.values[0])\n"
   ]
  },
  {
   "cell_type": "markdown",
   "metadata": {},
   "source": [
    "## 3. Avaliação do Modelo\n",
    "As métricas utilizadas são R², MAE e RMSE.\n"
   ]
  },
  {
   "cell_type": "code",
   "metadata": {},
   "execution_count": null,
   "outputs": [],
   "source": [
    "from sklearn.metrics import r2_score, mean_absolute_error, mean_squared_error\n",
    "r2 = r2_score(y_true, y_pred)\n",
    "mae = mean_absolute_error(y_true, y_pred)\n",
    "rmse = mean_squared_error(y_true, y_pred, squared=False)\n",
    "print(f'R²: {r2:.3f}')\n",
    "print(f'MAE: {mae:.3f}')\n",
    "print(f'RMSE: {rmse:.3f}')\n"
   ]
  },
  {
   "cell_type": "markdown",
   "metadata": {},
   "source": [
    "## 4. Gráfico Real vs Predito\n",
    "Visualização da performance do modelo ao longo dos anos.\n"
   ]
  },
  {
   "cell_type": "code",
   "metadata": {},
   "execution_count": null,
   "outputs": [],
   "source": [
    "import matplotlib.pyplot as plt\n",
    "plt.figure(figsize=(8,5))\n",
    "plt.plot(df['Ano'], y_true, label='Real', marker='o')\n",
    "plt.plot(df['Ano'], y_pred, label='Predito', marker='s')\n",
    "plt.xlabel('Ano')\n",
    "plt.ylabel('Produtividade (ton/ha)')\n",
    "plt.title('Produtividade Real vs Predita (Random Forest)')\n",
    "plt.legend()\n",
    "plt.grid(True)\n",
    "plt.tight_layout()\n",
    "plt.show()\n"
   ]
  },
  {
   "cell_type": "markdown",
   "metadata": {},
   "source": [
    "## 5. Importância das Variáveis\n",
    "Quais variáveis mais influenciam a previsão?\n"
   ]
  },
  {
   "cell_type": "code",
   "metadata": {},
   "execution_count": null,
   "outputs": [],
   "source": [
    "import seaborn as sns\n",
    "model_final = RandomForestRegressor(n_estimators=100, random_state=42)\n",
    "model_final.fit(X, y)\n",
    "importancias = model_final.feature_importances_\n",
    "features = X.columns\n",
    "plt.figure(figsize=(7,4))\n",
    "sns.barplot(x=importancias, y=features, palette='viridis')\n",
    "plt.title('Importância das Variáveis - Random Forest')\n",
    "plt.xlabel('Importância')\n",
    "plt.tight_layout()\n",
    "plt.show()\n"
   ]
  },
  {
   "cell_type": "markdown",
   "metadata": {},
   "source": [
    "---\n",
    "Este notebook é um insumo direto para a Etapa 3 do projeto: demonstra como usar Random Forest para prever produtividade agrícola, avaliar desempenho e interpretar resultados.\n"
   ]
  }
 ],
 "metadata": {
  "kernelspec": {
   "display_name": "Python 3",
   "language": "python",
   "name": "python3"
  },
  "language_info": {
   "name": "python",
   "version": "3.8"
  }
 },
 "nbformat": 4,
 "nbformat_minor": 2
}
