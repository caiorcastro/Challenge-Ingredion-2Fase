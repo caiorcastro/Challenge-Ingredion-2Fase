{
 "cells": [
  {
   "cell_type": "markdown",
   "metadata": {},
   "source": [
    "# Projeto Integrado: Análise de Produtividade Agrícola com NDVI, Clima e Segmentação Espacial\n",
    "\n",
    "## 1. Introdução\n",
    "Este notebook apresenta todas as etapas do projeto de análise de produtividade agrícola em Sidrolândia-MS, integrando NDVI (satélite), clima (INMET) e produção (IBGE/CONAB), além de técnicas de segmentação espacial de áreas de cultivo.\n"
   ]
  },
  {
   "cell_type": "markdown",
   "metadata": {},
   "source": [
    "## 2. Organização dos Dados\n",
    "- Dados brutos: IBGE, CONAB, NDVI, INMET\n",
    "- Dados processados: integrações anuais e mensais\n",
    "- Scripts: tratamento, análise, modelagem\n",
    "- Outputs: gráficos, tabelas, relatórios em `dados_processados/` e `resultados/`\n"
   ]
  },
  {
   "cell_type": "markdown",
   "metadata": {},
   "source": [
    "## 3. Análise Exploratória\n",
    "### Correlações anuais e mensais\n",
    "![](../resultados/correlacao_anual_heatmap.png)\n",
    "![](../resultados/correlacao_mensal_heatmap.png)\n\n",
    "### Séries temporais e boxplots\n",
    "![](../resultados/ndvi_serie_temporal.png)\n",
    "![](../resultados/ndvi_boxplot_mensal.png)\n"
   ]
  },
  {
   "cell_type": "markdown",
   "metadata": {},
   "source": [
    "## 4. Modelagem Preditiva\n",
    "- Modelos testados: Regressão Linear, Ridge, Lasso, Random Forest\n",
    "- Validação: Leave-One-Out\n",
    "- Métricas e coeficientes disponíveis em `dados_processados/`\n",
    "\n",
    "#### Visualizações de desempenho\n",
    "![](../resultados/rf_anual_importancia.png)\n",
    "![](../resultados/rf_anual_residuos.png)\n",
    "![](../resultados/rf_mensal_importancia.png)\n",
    "![](../resultados/rf_mensal_residuos.png)\n"
   ]
  },
  {
   "cell_type": "markdown",
   "metadata": {},
   "source": [
    "## 5. Segmentação Espacial de Áreas de Cultivo\n",
    "\n",
    "### a) Visual na Plataforma SATVeg\n",
    "A plataforma SATVeg permite a visualização espacial do NDVI, onde é possível identificar visualmente as áreas cultivadas dentro do grid do talhão. Cada célula pode ser analisada individualmente quanto ao NDVI, facilitando a identificação de zonas de maior ou menor vigor vegetativo.\n\n",
    "📎 Imagem: satveg_grid.png (ou imagem fornecida pelo usuário)\n\n",
    "- **Limitação:** Não é possível realizar segmentação automática por pixel sem acesso ao raster NDVI original.\n",
    "- **Recomendação:** Utilizar a plataforma SATVeg para análise visual das áreas de cultivo e, se possível, exportar dados NDVI por célula para análises mais detalhadas.\n\n",
    "### b) Segmentação Espacial Automática (K-means)\n",
    "\n",
    "Para destacar áreas de cultivo, solo exposto e vegetação nativa no talhão, aplicou-se segmentação automática por cor via K-means clustering na imagem de satélite (`satveg-sta-querencia.png`). Cada zona foi destacada:\n",
    "- **Verde escuro:** Cultivo ativo\n",
    "- **Amarelo:** Solo exposto\n",
    "- **Cinza:** Vegetação nativa/pousio\n\n",
    "O resultado está em `resultados/satveg_segmentado_kmeans.png`, permitindo análise visual rápida das diferentes classes de uso do solo.\n\n",
    "- **Técnica:** K-means clustering de cores RGB (n_clusters=3, ajustável para refino)\n",
    "- **Sugestão:** Ajuste o número de clusters ou as cores no script `segmentacao_espacial_kmeans.py` para refinar a segmentação conforme a paisagem analisada.\n\n",
    "```python\nfrom PIL import Image\nimport matplotlib.pyplot as plt\n\nimg = Image.open('../resultados/satveg_segmentado_kmeans.png')\nplt.figure(figsize=(10,10))\nplt.imshow(img)\nplt.axis('off')\nplt.title('Segmentação K-means: Vegetação (verde), Solo exposto (amarelo), Pousio (cinza)')\nplt.show()\n```\n"
   ]
  },
  {
   "cell_type": "markdown",
   "metadata": {},
   "source": [
    "## 6. Conclusões e Recomendações\n",
    "- NDVI, precipitação e temperatura são variáveis-chave para previsão de produtividade.\n",
    "- Random Forest apresentou melhor desempenho, mas recomenda-se sempre reportar o modelo linear para transparência.\n",
    "- Para análises espaciais detalhadas, recomenda-se exportar dados NDVI por célula do SATVeg ou obter imagens raster para segmentação automática.\n",
    "- Consulte os outputs em `resultados/` e o relatório `analises_resultados.txt` para detalhes completos.\n"
   ]
  }
 ],
 "metadata": {
  "kernelspec": {
   "display_name": "Python 3",
   "language": "python",
   "name": "python3"
  },
  "language_info": {
   "name": "python",
   "version": "3.8"
  }
 },
 "nbformat": 4,
 "nbformat_minor": 2
}
