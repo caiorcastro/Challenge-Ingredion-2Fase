{
 "cells": [
  {
   "cell_type": "markdown",
   "metadata": {},
   "source": [
    "# Análise Integrada de Produtividade Agrícola com NDVI, Clima e Produtividade\n\n",
    "## 1. Introdução\n",
    "Este notebook apresenta a análise integrada dos dados de produtividade agrícola para Sidrolândia-MS, utilizando NDVI (satélite), clima (INMET) e produção (IBGE/CONAB). O objetivo é identificar padrões, períodos críticos e variáveis-chave para modelagem preditiva.\n"
   ]
  },
  {
   "cell_type": "markdown",
   "metadata": {},
   "source": [
    "## 2. Organização dos Dados e Pipeline Analítico\n",
    "- Dados brutos: IBGE, CONAB, NDVI, INMET\n",
    "- Dados processados: integrações anuais e mensais\n",
    "- Scripts: tratamento, análise, modelagem\n",
    "- Outputs: gráficos, tabelas, relatórios em `dados_processados/` e `resultados/`\n"
   ]
  },
  {
   "cell_type": "markdown",
   "metadata": {},
   "source": [
    "## 3. Análise Exploratória\n",
    "### Correlações anuais e mensais\n",
    "![](../resultados/correlacao_anual_heatmap.png)\n",
    "![](../resultados/correlacao_mensal_heatmap.png)\n\n",
    "### Séries temporais e boxplots\n",
    "![](../resultados/ndvi_serie_temporal.png)\n",
    "![](../resultados/ndvi_boxplot_mensal.png)\n"
   ]
  },
  {
   "cell_type": "markdown",
   "metadata": {},
   "source": [
    "## 4. Modelagem Preditiva\n",
    "- Modelos testados: Regressão Linear, Ridge, Lasso, Random Forest\n",
    "- Validação: Leave-One-Out\n",
    "- Métricas e coeficientes disponíveis em `dados_processados/`\n",
    "\n",
    "#### Visualizações de desempenho\n",
    "![](../resultados/rf_anual_importancia.png)\n",
    "![](../resultados/rf_anual_residuos.png)\n",
    "![](../resultados/rf_mensal_importancia.png)\n",
    "![](../resultados/rf_mensal_residuos.png)\n"
   ]
  },
  {
   "cell_type": "markdown",
   "metadata": {},
   "source": [
    "## 5. Segmentação Espacial de Áreas de Cultivo\n",
    "A segmentação espacial foi realizada visualmente na plataforma SATVeg, destacando o grid sobre o talhão e permitindo a análise de NDVI por célula.\n",
    "\n",
    "![](../satveg_grid.png)\n\n",
    "*Limitação: Não foi possível realizar segmentação automática por pixel sem acesso ao raster NDVI original.*\n"
   ]
  },
  {
   "cell_type": "markdown",
   "metadata": {},
   "source": [
    "## 6. Conclusões e Recomendações\n",
    "- NDVI, precipitação e temperatura são variáveis-chave para previsão de produtividade.\n",
    "- Random Forest apresentou melhor desempenho, mas recomenda-se sempre reportar o modelo linear para transparência.\n",
    "- Para análises espaciais detalhadas, recomenda-se exportar dados NDVI por célula do SATVeg ou obter imagens raster para segmentação automática.\n",
    "- Consulte os outputs em `resultados/` e o relatório `analises_resultados.txt` para detalhes completos.\n"
   ]
  }
 ],
 "metadata": {
  "kernelspec": {
   "display_name": "Python 3",
   "language": "python",
   "name": "python3"
  },
  "language_info": {
   "name": "python",
   "version": "3.8"
  }
 },
 "nbformat": 4,
 "nbformat_minor": 2
}
