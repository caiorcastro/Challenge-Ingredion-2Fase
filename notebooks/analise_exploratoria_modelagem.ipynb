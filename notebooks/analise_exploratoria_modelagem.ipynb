{
 "cells": [
  {
   "cell_type": "markdown",
   "metadata": {},
   "source": [
    "# Análise Exploratória e Modelagem\n",
    "\n",
    "Este notebook documenta o pipeline de análise de produtividade do milho em Sidrolândia-MS com integração de NDVI.\n",
    "\n",
    "---"
   ]
  },
  {
   "cell_type": "code",
   "metadata": {},
   "source": [
    "import pandas as pd\n",
    "import matplotlib.pyplot as plt\n",
    "import seaborn as sns\n",
    "from sklearn.linear_model import LinearRegression\n",
    "from sklearn.metrics import r2_score, mean_squared_error\n",
    "import numpy as np\n"
   ]
  },
  {
   "cell_type": "markdown",
   "metadata": {},
   "source": [
    "## 1. Carregar os dados processados"
   ]
  },
  {
   "cell_type": "code",
   "metadata": {},
   "source": [
    "df = pd.read_csv('../dados_processados/dataset_integrado_ndvi_produtividade.csv')\n",
    "df"
   ]
  },
  {
   "cell_type": "markdown",
   "metadata": {},
   "source": [
    "## 2. Análise Exploratória\n",
    "### Correlação NDVI x Produtividade"
   ]
  },
  {
   "cell_type": "code",
   "metadata": {},
   "source": [
    "sns.scatterplot(data=df, x='Savitzky-Golay', y='Produtividade (ton/ha)', s=100)\n",
    "plt.title('NDVI médio anual x Produtividade do Milho (Sidrolândia-MS)')\n",
    "plt.xlabel('NDVI médio anual (suavizado)')\n",
    "plt.ylabel('Produtividade (ton/ha)')\n",
    "plt.grid(True)\n",
    "plt.show()\n",
    "# Correlação\n",
    "corr = df['Savitzky-Golay'].corr(df['Produtividade (ton/ha)'])\n",
    "print(f'Correlação de Pearson: {corr:.2f}')"
   ]
  },
  {
   "cell_type": "markdown",
   "metadata": {},
   "source": [
    "## 3. Modelagem Preditiva (Regressão Linear)"
   ]
  },
  {
   "cell_type": "code",
   "metadata": {},
   "source": [
    "X = df[['Savitzky-Golay']].values\n",
    "y = df['Produtividade (ton/ha)'].values\n",
    "model = LinearRegression()\n",
    "model.fit(X, y)\n",
    "y_pred = model.predict(X)\n",
    "r2 = r2_score(y, y_pred)\n",
    "rmse = mean_squared_error(y, y_pred, squared=False)\n",
    "print(f'R²: {r2:.2f} | RMSE: {rmse:.2f}')\n",
    "# Plotar ajuste\n",
    "plt.scatter(X, y, color='blue', label='Real')\n",
    "plt.plot(X, y_pred, color='red', label='Regressão Linear')\n",
    "plt.xlabel('NDVI médio anual (suavizado)')\n",
    "plt.ylabel('Produtividade (ton/ha)')\n",
    "plt.title('Regressão Linear: NDVI x Produtividade')\n",
    "plt.legend()\n",
    "plt.grid(True)\n",
    "plt.show()"
   ]
  },
  {
   "cell_type": "markdown",
   "metadata": {},
   "source": [
    "## 4. Conclusão\n",
    "- O NDVI médio anual tem correlação com a produtividade do milho em Sidrolândia-MS.\n",
    "- O modelo linear é um ponto de partida, mas pode ser melhorado com mais dados e variáveis climáticas.\n",
    "- Para relatórios e apresentações, inclua os gráficos salvos em `resultados/`."
   ]
  }
 ],
 "metadata": {
  "kernelspec": {
   "display_name": "Python 3",
   "language": "python",
   "name": "python3"
  },
  "language_info": {
   "name": "python",
   "version": "3.10"
  }
 },
 "nbformat": 4,
 "nbformat_minor": 2
}
